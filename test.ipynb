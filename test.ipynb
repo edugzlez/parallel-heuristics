{
 "cells": [
  {
   "cell_type": "code",
   "execution_count": 6,
   "metadata": {},
   "outputs": [],
   "source": [
    "import numpy as np\n",
    "from biopar.benchmark import functions\n",
    "from biopar.de import DE\n",
    "from time import time\n",
    "\n",
    "import warnings\n",
    "warnings.filterwarnings(\"ignore\")\n",
    "import matplotlib.pyplot as plt\n",
    "from tqdm.notebook import tqdm"
   ]
  },
  {
   "cell_type": "code",
   "execution_count": 9,
   "metadata": {},
   "outputs": [
    {
     "data": {
      "application/vnd.jupyter.widget-view+json": {
       "model_id": "396fef19307a4ee3a040108595c8023e",
       "version_major": 2,
       "version_minor": 0
      },
      "text/plain": [
       "Total:   0%|          | 0/33232200 [00:00<?, ?it/s]"
      ]
     },
     "metadata": {},
     "output_type": "display_data"
    },
    {
     "ename": "KeyboardInterrupt",
     "evalue": "",
     "output_type": "error",
     "traceback": [
      "\u001b[1;31m---------------------------------------------------------------------------\u001b[0m",
      "\u001b[1;31mKeyboardInterrupt\u001b[0m                         Traceback (most recent call last)",
      "\u001b[1;32mc:\\Users\\EDUARDO-MSI\\coding\\dabi-par\\parallel-heuristics\\test.ipynb Cell 2'\u001b[0m in \u001b[0;36m<cell line: 12>\u001b[1;34m()\u001b[0m\n\u001b[0;32m     <a href='vscode-notebook-cell:/c%3A/Users/EDUARDO-MSI/coding/dabi-par/parallel-heuristics/test.ipynb#ch0000001?line=13'>14</a>\u001b[0m F \u001b[39m=\u001b[39m np\u001b[39m.\u001b[39mrandom\u001b[39m.\u001b[39mrandom()\n\u001b[0;32m     <a href='vscode-notebook-cell:/c%3A/Users/EDUARDO-MSI/coding/dabi-par/parallel-heuristics/test.ipynb#ch0000001?line=15'>16</a>\u001b[0m i \u001b[39m=\u001b[39m time()\n\u001b[1;32m---> <a href='vscode-notebook-cell:/c%3A/Users/EDUARDO-MSI/coding/dabi-par/parallel-heuristics/test.ipynb#ch0000001?line=16'>17</a>\u001b[0m de \u001b[39m=\u001b[39m DE(target, limits, n_agents, \u001b[39m\"\u001b[39;49m\u001b[39mcpu\u001b[39;49m\u001b[39m\"\u001b[39;49m)\n\u001b[0;32m     <a href='vscode-notebook-cell:/c%3A/Users/EDUARDO-MSI/coding/dabi-par/parallel-heuristics/test.ipynb#ch0000001?line=17'>18</a>\u001b[0m de\u001b[39m.\u001b[39miterate(\u001b[39m100\u001b[39m, CR, F, \u001b[39mFalse\u001b[39;00m)\n\u001b[0;32m     <a href='vscode-notebook-cell:/c%3A/Users/EDUARDO-MSI/coding/dabi-par/parallel-heuristics/test.ipynb#ch0000001?line=18'>19</a>\u001b[0m _, better_value \u001b[39m=\u001b[39m de\u001b[39m.\u001b[39mgetResult()\n",
      "File \u001b[1;32mc:\\Users\\EDUARDO-MSI\\coding\\dabi-par\\parallel-heuristics\\biopar\\de\\__init__.py:20\u001b[0m, in \u001b[0;36mDE.__init__\u001b[1;34m(self, target, limits, n_agents, mode, lazy_min)\u001b[0m\n\u001b[0;32m     <a href='file:///c%3A/Users/EDUARDO-MSI/coding/dabi-par/parallel-heuristics/biopar/de/__init__.py?line=17'>18</a>\u001b[0m     \u001b[39mself\u001b[39m\u001b[39m.\u001b[39m__agents \u001b[39m=\u001b[39m de_gpu\u001b[39m.\u001b[39mgenerate_agents_de_gpu(n_agents, limits, target)\n\u001b[0;32m     <a href='file:///c%3A/Users/EDUARDO-MSI/coding/dabi-par/parallel-heuristics/biopar/de/__init__.py?line=18'>19</a>\u001b[0m \u001b[39melse\u001b[39;00m:\n\u001b[1;32m---> <a href='file:///c%3A/Users/EDUARDO-MSI/coding/dabi-par/parallel-heuristics/biopar/de/__init__.py?line=19'>20</a>\u001b[0m     \u001b[39mself\u001b[39m\u001b[39m.\u001b[39m__agents, \u001b[39mself\u001b[39m\u001b[39m.\u001b[39m__best_global \u001b[39m=\u001b[39m de_cpu\u001b[39m.\u001b[39;49mgenerate_agents_cpu(n_agents, limits, target)\n",
      "File \u001b[1;32mc:\\Users\\EDUARDO-MSI\\coding\\dabi-par\\parallel-heuristics\\biopar\\de\\de_cpu.py:16\u001b[0m, in \u001b[0;36mgenerate_agents_cpu\u001b[1;34m(num_agents, limits, fun)\u001b[0m\n\u001b[0;32m      <a href='file:///c%3A/Users/EDUARDO-MSI/coding/dabi-par/parallel-heuristics/biopar/de/de_cpu.py?line=8'>9</a>\u001b[0m agents \u001b[39m=\u001b[39m np\u001b[39m.\u001b[39mrandom\u001b[39m.\u001b[39muniform(size\u001b[39m=\u001b[39m(num_agents, ldim), low \u001b[39m=\u001b[39m limits[:, \u001b[39m0\u001b[39m], high \u001b[39m=\u001b[39m limits[:, \u001b[39m1\u001b[39m])\n\u001b[0;32m     <a href='file:///c%3A/Users/EDUARDO-MSI/coding/dabi-par/parallel-heuristics/biopar/de/de_cpu.py?line=10'>11</a>\u001b[0m mfun \u001b[39m=\u001b[39m numba\u001b[39m.\u001b[39mnjit(fun)\n\u001b[0;32m     <a href='file:///c%3A/Users/EDUARDO-MSI/coding/dabi-par/parallel-heuristics/biopar/de/de_cpu.py?line=12'>13</a>\u001b[0m agents \u001b[39m=\u001b[39m np\u001b[39m.\u001b[39mhstack([\n\u001b[0;32m     <a href='file:///c%3A/Users/EDUARDO-MSI/coding/dabi-par/parallel-heuristics/biopar/de/de_cpu.py?line=13'>14</a>\u001b[0m     agents, \n\u001b[0;32m     <a href='file:///c%3A/Users/EDUARDO-MSI/coding/dabi-par/parallel-heuristics/biopar/de/de_cpu.py?line=14'>15</a>\u001b[0m     agents\u001b[39m.\u001b[39mcopy(),\n\u001b[1;32m---> <a href='file:///c%3A/Users/EDUARDO-MSI/coding/dabi-par/parallel-heuristics/biopar/de/de_cpu.py?line=15'>16</a>\u001b[0m     np\u001b[39m.\u001b[39;49mapply_along_axis(mfun, \u001b[39m1\u001b[39;49m, agents)\u001b[39m.\u001b[39mreshape((\u001b[39m-\u001b[39m\u001b[39m1\u001b[39m, \u001b[39m1\u001b[39m))\n\u001b[0;32m     <a href='file:///c%3A/Users/EDUARDO-MSI/coding/dabi-par/parallel-heuristics/biopar/de/de_cpu.py?line=16'>17</a>\u001b[0m ])\n\u001b[0;32m     <a href='file:///c%3A/Users/EDUARDO-MSI/coding/dabi-par/parallel-heuristics/biopar/de/de_cpu.py?line=18'>19</a>\u001b[0m x \u001b[39m=\u001b[39m np\u001b[39m.\u001b[39margmin(agents[:, \u001b[39m-\u001b[39m\u001b[39m1\u001b[39m])\n\u001b[0;32m     <a href='file:///c%3A/Users/EDUARDO-MSI/coding/dabi-par/parallel-heuristics/biopar/de/de_cpu.py?line=19'>20</a>\u001b[0m best_global \u001b[39m=\u001b[39m np\u001b[39m.\u001b[39marray([x, agents[x, \u001b[39m-\u001b[39m\u001b[39m1\u001b[39m]])\n",
      "File \u001b[1;32m<__array_function__ internals>:5\u001b[0m, in \u001b[0;36mapply_along_axis\u001b[1;34m(*args, **kwargs)\u001b[0m\n",
      "File \u001b[1;32m~\\AppData\\Local\\Programs\\Python\\Python310\\lib\\site-packages\\numpy\\lib\\shape_base.py:402\u001b[0m, in \u001b[0;36mapply_along_axis\u001b[1;34m(func1d, axis, arr, *args, **kwargs)\u001b[0m\n\u001b[0;32m    <a href='file:///c%3A/Users/EDUARDO-MSI/AppData/Local/Programs/Python/Python310/lib/site-packages/numpy/lib/shape_base.py?line=399'>400</a>\u001b[0m buff[ind0] \u001b[39m=\u001b[39m res\n\u001b[0;32m    <a href='file:///c%3A/Users/EDUARDO-MSI/AppData/Local/Programs/Python/Python310/lib/site-packages/numpy/lib/shape_base.py?line=400'>401</a>\u001b[0m \u001b[39mfor\u001b[39;00m ind \u001b[39min\u001b[39;00m inds:\n\u001b[1;32m--> <a href='file:///c%3A/Users/EDUARDO-MSI/AppData/Local/Programs/Python/Python310/lib/site-packages/numpy/lib/shape_base.py?line=401'>402</a>\u001b[0m     buff[ind] \u001b[39m=\u001b[39m asanyarray(func1d(inarr_view[ind], \u001b[39m*\u001b[39margs, \u001b[39m*\u001b[39m\u001b[39m*\u001b[39mkwargs))\n\u001b[0;32m    <a href='file:///c%3A/Users/EDUARDO-MSI/AppData/Local/Programs/Python/Python310/lib/site-packages/numpy/lib/shape_base.py?line=403'>404</a>\u001b[0m \u001b[39mif\u001b[39;00m \u001b[39mnot\u001b[39;00m \u001b[39misinstance\u001b[39m(res, matrix):\n\u001b[0;32m    <a href='file:///c%3A/Users/EDUARDO-MSI/AppData/Local/Programs/Python/Python310/lib/site-packages/numpy/lib/shape_base.py?line=404'>405</a>\u001b[0m     \u001b[39m# wrap the array, to preserve subclasses\u001b[39;00m\n\u001b[0;32m    <a href='file:///c%3A/Users/EDUARDO-MSI/AppData/Local/Programs/Python/Python310/lib/site-packages/numpy/lib/shape_base.py?line=405'>406</a>\u001b[0m     buff \u001b[39m=\u001b[39m res\u001b[39m.\u001b[39m__array_wrap__(buff)\n",
      "\u001b[1;31mKeyboardInterrupt\u001b[0m: "
     ]
    }
   ],
   "source": [
    "args = functions['styblinkski']\n",
    "target = args['fun']\n",
    "limits = args['limits']\n",
    "min_value = args['min_value']\n",
    "ext = args['ext']\n",
    "\n",
    "agents = [100, 1000, 5_000, 10_000, 100_000]\n",
    "y_cpu = []\n",
    "y_gpu = []\n",
    "s = sum([2 * ag for ag in agents])\n",
    "pbar = tqdm(total=s, desc=\"Total\")\n",
    "for n_agents in agents:\n",
    "    CR = np.random.random()\n",
    "    F = np.random.random()\n",
    "\n",
    "    i = time()\n",
    "    de = DE(target, limits, n_agents, \"cpu\")\n",
    "    de.iterate(100, CR, F, False)\n",
    "    _, better_value = de.getResult()\n",
    "    j = time()\n",
    "    y_cpu.append(j-i)\n",
    "    pbar.update(n_agents)\n",
    "\n",
    "    i = time()\n",
    "    de = DE(target, limits, n_agents, \"gpu\")\n",
    "    de.iterate(100, CR, F, False)\n",
    "    _, better_value = de.getResult()\n",
    "    j = time()\n",
    "    y_gpu.append(j-i)\n",
    "    pbar.update(n_agents)"
   ]
  },
  {
   "cell_type": "code",
   "execution_count": null,
   "metadata": {},
   "outputs": [],
   "source": [
    "# y_cpu_ = np.convolve(y_cpu_, np.ones(N)/N, mode='valid')\n",
    "plt.plot(agents, y_cpu)\n",
    "plt.plot(agents, y_gpu)"
   ]
  }
 ],
 "metadata": {
  "interpreter": {
   "hash": "7f86669f4515fa38b7948231ea156b436ebe0ba1d89d88b91b33e5997ea9600e"
  },
  "kernelspec": {
   "display_name": "Python 3.10.4 64-bit",
   "language": "python",
   "name": "python3"
  },
  "language_info": {
   "codemirror_mode": {
    "name": "ipython",
    "version": 3
   },
   "file_extension": ".py",
   "mimetype": "text/x-python",
   "name": "python",
   "nbconvert_exporter": "python",
   "pygments_lexer": "ipython3",
   "version": "3.10.4"
  },
  "orig_nbformat": 4
 },
 "nbformat": 4,
 "nbformat_minor": 2
}
